{
 "cells": [
  {
   "cell_type": "code",
   "execution_count": 1,
   "metadata": {},
   "outputs": [],
   "source": [
    "import pandas as pd"
   ]
  },
  {
   "cell_type": "markdown",
   "metadata": {},
   "source": [
    "### Load the Json Data in Chunks"
   ]
  },
  {
   "cell_type": "code",
   "execution_count": 24,
   "metadata": {},
   "outputs": [
    {
     "data": {
      "text/plain": [
       "<pandas.io.json._json.JsonReader at 0x28d4db7c7d0>"
      ]
     },
     "execution_count": 24,
     "metadata": {},
     "output_type": "execute_result"
    }
   ],
   "source": [
    "# Load the JSON Data in Chunks\n",
    "df = pd.read_json(\n",
    "    '..\\\\archive\\\\arxiv-metadata-oai-snapshot.json',\n",
    "    lines=True,\n",
    "    chunksize=1000\n",
    ")\n",
    "\n",
    "df"
   ]
  },
  {
   "cell_type": "code",
   "execution_count": 25,
   "metadata": {},
   "outputs": [
    {
     "name": "stdout",
     "output_type": "stream",
     "text": [
      "id                                                         704.0002\n",
      "submitter                                              Louis Theran\n",
      "authors                             Ileana Streinu and Louis Theran\n",
      "title                      Sparsity-certifying Graph Decompositions\n",
      "comments                      To appear in Graphs and Combinatorics\n",
      "journal-ref                                                    None\n",
      "doi                                                            None\n",
      "report-no                                                      None\n",
      "categories                                            math.CO cs.CG\n",
      "license           http://arxiv.org/licenses/nonexclusive-distrib...\n",
      "abstract            We describe a new algorithm, the $(k,\\ell)$-...\n",
      "versions          [{'version': 'v1', 'created': 'Sat, 31 Mar 200...\n",
      "update_date                                              2008-12-13\n",
      "authors_parsed             [[Streinu, Ileana, ], [Theran, Louis, ]]\n",
      "Name: 1, dtype: object\n"
     ]
    }
   ],
   "source": [
    "# First row in First Chunk\n",
    "for chunk in df:\n",
    "    print(chunk.iloc[1])\n",
    "    break"
   ]
  },
  {
   "cell_type": "markdown",
   "metadata": {},
   "source": [
    "### Filtering Function"
   ]
  },
  {
   "cell_type": "code",
   "execution_count": 28,
   "metadata": {},
   "outputs": [],
   "source": [
    "# function to filter NLP Papers\n",
    "def check_category(category):\n",
    "    return 'cs.CL' in category"
   ]
  },
  {
   "cell_type": "markdown",
   "metadata": {},
   "source": [
    "### Filter all chunks and Concat them for Filtered Dataset"
   ]
  },
  {
   "cell_type": "code",
   "execution_count": 27,
   "metadata": {},
   "outputs": [
    {
     "data": {
      "text/plain": [
       "2661"
      ]
     },
     "execution_count": 27,
     "metadata": {},
     "output_type": "execute_result"
    }
   ],
   "source": [
    "# Filter Each chunk\n",
    "chunks = []\n",
    "for chunk in df:\n",
    "    filtered = chunk.loc[chunk['categories'].apply(check_category), ['id', 'doi', 'title', 'abstract', 'categories', 'update_date']]\n",
    "    chunks.append(filtered)\n",
    "\n",
    "len(chunks)"
   ]
  },
  {
   "cell_type": "code",
   "execution_count": 29,
   "metadata": {},
   "outputs": [
    {
     "data": {
      "text/html": [
       "<div>\n",
       "<style scoped>\n",
       "    .dataframe tbody tr th:only-of-type {\n",
       "        vertical-align: middle;\n",
       "    }\n",
       "\n",
       "    .dataframe tbody tr th {\n",
       "        vertical-align: top;\n",
       "    }\n",
       "\n",
       "    .dataframe thead th {\n",
       "        text-align: right;\n",
       "    }\n",
       "</style>\n",
       "<table border=\"1\" class=\"dataframe\">\n",
       "  <thead>\n",
       "    <tr style=\"text-align: right;\">\n",
       "      <th></th>\n",
       "      <th>id</th>\n",
       "      <th>doi</th>\n",
       "      <th>title</th>\n",
       "      <th>abstract</th>\n",
       "      <th>categories</th>\n",
       "      <th>update_date</th>\n",
       "    </tr>\n",
       "  </thead>\n",
       "  <tbody>\n",
       "    <tr>\n",
       "      <th>2082</th>\n",
       "      <td>704.2083</td>\n",
       "      <td>None</td>\n",
       "      <td>Introduction to Arabic Speech Recognition Usin...</td>\n",
       "      <td>In this paper Arabic was investigated from t...</td>\n",
       "      <td>cs.CL cs.AI</td>\n",
       "      <td>2007-05-23</td>\n",
       "    </tr>\n",
       "    <tr>\n",
       "      <th>2200</th>\n",
       "      <td>704.2201</td>\n",
       "      <td>None</td>\n",
       "      <td>Arabic Speech Recognition System using CMU-Sph...</td>\n",
       "      <td>In this paper we present the creation of an ...</td>\n",
       "      <td>cs.CL cs.AI</td>\n",
       "      <td>2007-05-23</td>\n",
       "    </tr>\n",
       "    <tr>\n",
       "      <th>3661</th>\n",
       "      <td>704.3662</td>\n",
       "      <td>None</td>\n",
       "      <td>An Automated Evaluation Metric for Chinese Tex...</td>\n",
       "      <td>In this paper, we propose an automated evalu...</td>\n",
       "      <td>cs.HC cs.CL</td>\n",
       "      <td>2013-10-29</td>\n",
       "    </tr>\n",
       "    <tr>\n",
       "      <th>3664</th>\n",
       "      <td>704.3665</td>\n",
       "      <td>None</td>\n",
       "      <td>On the Development of Text Input Method - Less...</td>\n",
       "      <td>Intelligent Input Methods (IM) are essential...</td>\n",
       "      <td>cs.CL cs.HC</td>\n",
       "      <td>2007-05-23</td>\n",
       "    </tr>\n",
       "    <tr>\n",
       "      <th>3707</th>\n",
       "      <td>704.3708</td>\n",
       "      <td>None</td>\n",
       "      <td>Network statistics on early English Syntax: St...</td>\n",
       "      <td>This paper includes a reflection on the role...</td>\n",
       "      <td>cs.CL</td>\n",
       "      <td>2007-05-23</td>\n",
       "    </tr>\n",
       "    <tr>\n",
       "      <th>...</th>\n",
       "      <td>...</td>\n",
       "      <td>...</td>\n",
       "      <td>...</td>\n",
       "      <td>...</td>\n",
       "      <td>...</td>\n",
       "      <td>...</td>\n",
       "    </tr>\n",
       "    <tr>\n",
       "      <th>2414645</th>\n",
       "      <td>cs/9912009</td>\n",
       "      <td>10.1109/TAI.1996.560480</td>\n",
       "      <td>Deduction over Mixed-Level Logic Representatio...</td>\n",
       "      <td>A system is described that uses a mixed-leve...</td>\n",
       "      <td>cs.CL</td>\n",
       "      <td>2016-11-15</td>\n",
       "    </tr>\n",
       "    <tr>\n",
       "      <th>2414652</th>\n",
       "      <td>cs/9912016</td>\n",
       "      <td>None</td>\n",
       "      <td>HMM Specialization with Selective Lexicalization</td>\n",
       "      <td>We present a technique which complements Hid...</td>\n",
       "      <td>cs.CL cs.LG</td>\n",
       "      <td>2007-05-23</td>\n",
       "    </tr>\n",
       "    <tr>\n",
       "      <th>2414653</th>\n",
       "      <td>cs/9912017</td>\n",
       "      <td>None</td>\n",
       "      <td>Mixed-Level Knowledge Representation and Varia...</td>\n",
       "      <td>A system is described that uses a mixed-leve...</td>\n",
       "      <td>cs.CL</td>\n",
       "      <td>2007-05-23</td>\n",
       "    </tr>\n",
       "    <tr>\n",
       "      <th>2624826</th>\n",
       "      <td>physics/0307117</td>\n",
       "      <td>10.1103/PhysRevE.68.061107</td>\n",
       "      <td>Symbolic stochastic dynamical systems viewed a...</td>\n",
       "      <td>A theory of systems with long-range correlat...</td>\n",
       "      <td>physics.data-an cond-mat.stat-mech cs.CL math-...</td>\n",
       "      <td>2016-09-08</td>\n",
       "    </tr>\n",
       "    <tr>\n",
       "      <th>2646709</th>\n",
       "      <td>quant-ph/0309022</td>\n",
       "      <td>10.1088/0305-4470/37/12/L01</td>\n",
       "      <td>Quantum Aspects of Semantic Analysis and Symbo...</td>\n",
       "      <td>Modern approaches to semanic analysis if ref...</td>\n",
       "      <td>quant-ph cs.CL</td>\n",
       "      <td>2016-09-08</td>\n",
       "    </tr>\n",
       "  </tbody>\n",
       "</table>\n",
       "<p>77117 rows × 6 columns</p>\n",
       "</div>"
      ],
      "text/plain": [
       "                       id                          doi  \\\n",
       "2082             704.2083                         None   \n",
       "2200             704.2201                         None   \n",
       "3661             704.3662                         None   \n",
       "3664             704.3665                         None   \n",
       "3707             704.3708                         None   \n",
       "...                   ...                          ...   \n",
       "2414645        cs/9912009      10.1109/TAI.1996.560480   \n",
       "2414652        cs/9912016                         None   \n",
       "2414653        cs/9912017                         None   \n",
       "2624826   physics/0307117   10.1103/PhysRevE.68.061107   \n",
       "2646709  quant-ph/0309022  10.1088/0305-4470/37/12/L01   \n",
       "\n",
       "                                                     title  \\\n",
       "2082     Introduction to Arabic Speech Recognition Usin...   \n",
       "2200     Arabic Speech Recognition System using CMU-Sph...   \n",
       "3661     An Automated Evaluation Metric for Chinese Tex...   \n",
       "3664     On the Development of Text Input Method - Less...   \n",
       "3707     Network statistics on early English Syntax: St...   \n",
       "...                                                    ...   \n",
       "2414645  Deduction over Mixed-Level Logic Representatio...   \n",
       "2414652   HMM Specialization with Selective Lexicalization   \n",
       "2414653  Mixed-Level Knowledge Representation and Varia...   \n",
       "2624826  Symbolic stochastic dynamical systems viewed a...   \n",
       "2646709  Quantum Aspects of Semantic Analysis and Symbo...   \n",
       "\n",
       "                                                  abstract  \\\n",
       "2082       In this paper Arabic was investigated from t...   \n",
       "2200       In this paper we present the creation of an ...   \n",
       "3661       In this paper, we propose an automated evalu...   \n",
       "3664       Intelligent Input Methods (IM) are essential...   \n",
       "3707       This paper includes a reflection on the role...   \n",
       "...                                                    ...   \n",
       "2414645    A system is described that uses a mixed-leve...   \n",
       "2414652    We present a technique which complements Hid...   \n",
       "2414653    A system is described that uses a mixed-leve...   \n",
       "2624826    A theory of systems with long-range correlat...   \n",
       "2646709    Modern approaches to semanic analysis if ref...   \n",
       "\n",
       "                                                categories update_date  \n",
       "2082                                           cs.CL cs.AI  2007-05-23  \n",
       "2200                                           cs.CL cs.AI  2007-05-23  \n",
       "3661                                           cs.HC cs.CL  2013-10-29  \n",
       "3664                                           cs.CL cs.HC  2007-05-23  \n",
       "3707                                                 cs.CL  2007-05-23  \n",
       "...                                                    ...         ...  \n",
       "2414645                                              cs.CL  2016-11-15  \n",
       "2414652                                        cs.CL cs.LG  2007-05-23  \n",
       "2414653                                              cs.CL  2007-05-23  \n",
       "2624826  physics.data-an cond-mat.stat-mech cs.CL math-...  2016-09-08  \n",
       "2646709                                     quant-ph cs.CL  2016-09-08  \n",
       "\n",
       "[77117 rows x 6 columns]"
      ]
     },
     "execution_count": 29,
     "metadata": {},
     "output_type": "execute_result"
    }
   ],
   "source": [
    "df = pd.concat(chunks)\n",
    "df"
   ]
  },
  {
   "cell_type": "markdown",
   "metadata": {},
   "source": [
    "### Save Filtered Data to CSV"
   ]
  },
  {
   "cell_type": "code",
   "execution_count": 36,
   "metadata": {},
   "outputs": [],
   "source": [
    "df.to_csv('filtered_data.csv')\n",
    "\n",
    "# Store Filtered Data Efficiently\n",
    "df.to_feather('filtered_data.feather')"
   ]
  },
  {
   "cell_type": "code",
   "execution_count": 37,
   "metadata": {},
   "outputs": [
    {
     "name": "stdout",
     "output_type": "stream",
     "text": [
      "(77117, 6)\n"
     ]
    },
    {
     "data": {
      "text/html": [
       "<div>\n",
       "<style scoped>\n",
       "    .dataframe tbody tr th:only-of-type {\n",
       "        vertical-align: middle;\n",
       "    }\n",
       "\n",
       "    .dataframe tbody tr th {\n",
       "        vertical-align: top;\n",
       "    }\n",
       "\n",
       "    .dataframe thead th {\n",
       "        text-align: right;\n",
       "    }\n",
       "</style>\n",
       "<table border=\"1\" class=\"dataframe\">\n",
       "  <thead>\n",
       "    <tr style=\"text-align: right;\">\n",
       "      <th></th>\n",
       "      <th>id</th>\n",
       "      <th>doi</th>\n",
       "      <th>title</th>\n",
       "      <th>abstract</th>\n",
       "      <th>categories</th>\n",
       "      <th>update_date</th>\n",
       "    </tr>\n",
       "  </thead>\n",
       "  <tbody>\n",
       "    <tr>\n",
       "      <th>2082</th>\n",
       "      <td>704.2083</td>\n",
       "      <td>NaN</td>\n",
       "      <td>Introduction to Arabic Speech Recognition Usin...</td>\n",
       "      <td>In this paper Arabic was investigated from t...</td>\n",
       "      <td>cs.CL cs.AI</td>\n",
       "      <td>2007-05-23</td>\n",
       "    </tr>\n",
       "    <tr>\n",
       "      <th>2200</th>\n",
       "      <td>704.2201</td>\n",
       "      <td>NaN</td>\n",
       "      <td>Arabic Speech Recognition System using CMU-Sph...</td>\n",
       "      <td>In this paper we present the creation of an ...</td>\n",
       "      <td>cs.CL cs.AI</td>\n",
       "      <td>2007-05-23</td>\n",
       "    </tr>\n",
       "    <tr>\n",
       "      <th>3661</th>\n",
       "      <td>704.3662</td>\n",
       "      <td>NaN</td>\n",
       "      <td>An Automated Evaluation Metric for Chinese Tex...</td>\n",
       "      <td>In this paper, we propose an automated evalu...</td>\n",
       "      <td>cs.HC cs.CL</td>\n",
       "      <td>2013-10-29</td>\n",
       "    </tr>\n",
       "    <tr>\n",
       "      <th>3664</th>\n",
       "      <td>704.3665</td>\n",
       "      <td>NaN</td>\n",
       "      <td>On the Development of Text Input Method - Less...</td>\n",
       "      <td>Intelligent Input Methods (IM) are essential...</td>\n",
       "      <td>cs.CL cs.HC</td>\n",
       "      <td>2007-05-23</td>\n",
       "    </tr>\n",
       "    <tr>\n",
       "      <th>3707</th>\n",
       "      <td>704.3708</td>\n",
       "      <td>NaN</td>\n",
       "      <td>Network statistics on early English Syntax: St...</td>\n",
       "      <td>This paper includes a reflection on the role...</td>\n",
       "      <td>cs.CL</td>\n",
       "      <td>2007-05-23</td>\n",
       "    </tr>\n",
       "  </tbody>\n",
       "</table>\n",
       "</div>"
      ],
      "text/plain": [
       "            id  doi                                              title  \\\n",
       "2082  704.2083  NaN  Introduction to Arabic Speech Recognition Usin...   \n",
       "2200  704.2201  NaN  Arabic Speech Recognition System using CMU-Sph...   \n",
       "3661  704.3662  NaN  An Automated Evaluation Metric for Chinese Tex...   \n",
       "3664  704.3665  NaN  On the Development of Text Input Method - Less...   \n",
       "3707  704.3708  NaN  Network statistics on early English Syntax: St...   \n",
       "\n",
       "                                               abstract   categories  \\\n",
       "2082    In this paper Arabic was investigated from t...  cs.CL cs.AI   \n",
       "2200    In this paper we present the creation of an ...  cs.CL cs.AI   \n",
       "3661    In this paper, we propose an automated evalu...  cs.HC cs.CL   \n",
       "3664    Intelligent Input Methods (IM) are essential...  cs.CL cs.HC   \n",
       "3707    This paper includes a reflection on the role...        cs.CL   \n",
       "\n",
       "     update_date  \n",
       "2082  2007-05-23  \n",
       "2200  2007-05-23  \n",
       "3661  2013-10-29  \n",
       "3664  2007-05-23  \n",
       "3707  2007-05-23  "
      ]
     },
     "execution_count": 37,
     "metadata": {},
     "output_type": "execute_result"
    }
   ],
   "source": [
    "df = pd.read_csv('filtered_data.csv', index_col=[0], low_memory=False)\n",
    "\n",
    "print(df.shape)\n",
    "df.head()"
   ]
  },
  {
   "cell_type": "code",
   "execution_count": 2,
   "metadata": {},
   "outputs": [
    {
     "name": "stdout",
     "output_type": "stream",
     "text": [
      "(77117, 6)\n"
     ]
    },
    {
     "data": {
      "text/html": [
       "<div>\n",
       "<style scoped>\n",
       "    .dataframe tbody tr th:only-of-type {\n",
       "        vertical-align: middle;\n",
       "    }\n",
       "\n",
       "    .dataframe tbody tr th {\n",
       "        vertical-align: top;\n",
       "    }\n",
       "\n",
       "    .dataframe thead th {\n",
       "        text-align: right;\n",
       "    }\n",
       "</style>\n",
       "<table border=\"1\" class=\"dataframe\">\n",
       "  <thead>\n",
       "    <tr style=\"text-align: right;\">\n",
       "      <th></th>\n",
       "      <th>id</th>\n",
       "      <th>doi</th>\n",
       "      <th>title</th>\n",
       "      <th>abstract</th>\n",
       "      <th>categories</th>\n",
       "      <th>update_date</th>\n",
       "    </tr>\n",
       "  </thead>\n",
       "  <tbody>\n",
       "    <tr>\n",
       "      <th>2082</th>\n",
       "      <td>704.2083</td>\n",
       "      <td>None</td>\n",
       "      <td>Introduction to Arabic Speech Recognition Usin...</td>\n",
       "      <td>In this paper Arabic was investigated from t...</td>\n",
       "      <td>cs.CL cs.AI</td>\n",
       "      <td>2007-05-23</td>\n",
       "    </tr>\n",
       "    <tr>\n",
       "      <th>2200</th>\n",
       "      <td>704.2201</td>\n",
       "      <td>None</td>\n",
       "      <td>Arabic Speech Recognition System using CMU-Sph...</td>\n",
       "      <td>In this paper we present the creation of an ...</td>\n",
       "      <td>cs.CL cs.AI</td>\n",
       "      <td>2007-05-23</td>\n",
       "    </tr>\n",
       "    <tr>\n",
       "      <th>3661</th>\n",
       "      <td>704.3662</td>\n",
       "      <td>None</td>\n",
       "      <td>An Automated Evaluation Metric for Chinese Tex...</td>\n",
       "      <td>In this paper, we propose an automated evalu...</td>\n",
       "      <td>cs.HC cs.CL</td>\n",
       "      <td>2013-10-29</td>\n",
       "    </tr>\n",
       "    <tr>\n",
       "      <th>3664</th>\n",
       "      <td>704.3665</td>\n",
       "      <td>None</td>\n",
       "      <td>On the Development of Text Input Method - Less...</td>\n",
       "      <td>Intelligent Input Methods (IM) are essential...</td>\n",
       "      <td>cs.CL cs.HC</td>\n",
       "      <td>2007-05-23</td>\n",
       "    </tr>\n",
       "    <tr>\n",
       "      <th>3707</th>\n",
       "      <td>704.3708</td>\n",
       "      <td>None</td>\n",
       "      <td>Network statistics on early English Syntax: St...</td>\n",
       "      <td>This paper includes a reflection on the role...</td>\n",
       "      <td>cs.CL</td>\n",
       "      <td>2007-05-23</td>\n",
       "    </tr>\n",
       "  </tbody>\n",
       "</table>\n",
       "</div>"
      ],
      "text/plain": [
       "            id   doi                                              title  \\\n",
       "2082  704.2083  None  Introduction to Arabic Speech Recognition Usin...   \n",
       "2200  704.2201  None  Arabic Speech Recognition System using CMU-Sph...   \n",
       "3661  704.3662  None  An Automated Evaluation Metric for Chinese Tex...   \n",
       "3664  704.3665  None  On the Development of Text Input Method - Less...   \n",
       "3707  704.3708  None  Network statistics on early English Syntax: St...   \n",
       "\n",
       "                                               abstract   categories  \\\n",
       "2082    In this paper Arabic was investigated from t...  cs.CL cs.AI   \n",
       "2200    In this paper we present the creation of an ...  cs.CL cs.AI   \n",
       "3661    In this paper, we propose an automated evalu...  cs.HC cs.CL   \n",
       "3664    Intelligent Input Methods (IM) are essential...  cs.CL cs.HC   \n",
       "3707    This paper includes a reflection on the role...        cs.CL   \n",
       "\n",
       "     update_date  \n",
       "2082  2007-05-23  \n",
       "2200  2007-05-23  \n",
       "3661  2013-10-29  \n",
       "3664  2007-05-23  \n",
       "3707  2007-05-23  "
      ]
     },
     "execution_count": 2,
     "metadata": {},
     "output_type": "execute_result"
    }
   ],
   "source": [
    "df = pd.read_feather('filtered_data.feather')\n",
    "\n",
    "print(df.shape)\n",
    "df.head()"
   ]
  },
  {
   "cell_type": "code",
   "execution_count": 4,
   "metadata": {},
   "outputs": [
    {
     "data": {
      "text/plain": [
       "'Offloading Cognition onto Cognitive Technology'"
      ]
     },
     "execution_count": 4,
     "metadata": {},
     "output_type": "execute_result"
    }
   ],
   "source": [
    "df['title'].iloc[102]"
   ]
  }
 ],
 "metadata": {
  "kernelspec": {
   "display_name": "Python 3",
   "language": "python",
   "name": "python3"
  },
  "language_info": {
   "codemirror_mode": {
    "name": "ipython",
    "version": 3
   },
   "file_extension": ".py",
   "mimetype": "text/x-python",
   "name": "python",
   "nbconvert_exporter": "python",
   "pygments_lexer": "ipython3",
   "version": "3.11.6"
  }
 },
 "nbformat": 4,
 "nbformat_minor": 2
}
